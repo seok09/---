{
  "nbformat": 4,
  "nbformat_minor": 0,
  "metadata": {
    "colab": {
      "provenance": [],
      "gpuType": "T4",
      "authorship_tag": "ABX9TyPNQSKrApEaLQc5FNRHai3X",
      "include_colab_link": true
    },
    "kernelspec": {
      "name": "python3",
      "display_name": "Python 3"
    },
    "language_info": {
      "name": "python"
    },
    "accelerator": "GPU"
  },
  "cells": [
    {
      "cell_type": "markdown",
      "metadata": {
        "id": "view-in-github",
        "colab_type": "text"
      },
      "source": [
        "<a href=\"https://colab.research.google.com/github/seok09/-Github-Repository/blob/main/colab_basic_01_ipnb%EC%9D%98_%EC%82%AC%EB%B3%B8.ipynb\" target=\"_parent\"><img src=\"https://colab.research.google.com/assets/colab-badge.svg\" alt=\"Open In Colab\"/></a>"
      ]
    },
    {
      "cell_type": "markdown",
      "source": [],
      "metadata": {
        "id": "mhQQiohukAmJ"
      }
    },
    {
      "cell_type": "markdown",
      "source": [
        "python code 성적표 1"
      ],
      "metadata": {
        "id": "K05evcUVjgm4"
      }
    },
    {
      "cell_type": "code",
      "source": [
        "import pandas as pd\n",
        "\n",
        "# 학생 수\n",
        "num_students = 5\n",
        "\n",
        "# 데이터 저장용 리스트\n",
        "students = []\n",
        "\n",
        "# 입력 받기\n",
        "print(\"학생 5명의 이름과 국어, 수학, 과학 점수를 입력하세요.\")\n",
        "for i in range(num_students):\n",
        "    print(f\"\\n[{i+1}번째 학생 입력]\")\n",
        "    name = input(\"이름: \")\n",
        "    korean = int(input(\"국어 점수: \"))\n",
        "    math = int(input(\"수학 점수: \"))\n",
        "    science = int(input(\"과학 점수: \"))\n",
        "\n",
        "    student = {\n",
        "        \"이름\": name,\n",
        "        \"국어\": korean,\n",
        "        \"수학\": math,\n",
        "        \"과학\": science\n",
        "    }\n",
        "    students.append(student)\n",
        "\n",
        "# DataFrame 생성\n",
        "df = pd.DataFrame(students)\n",
        "\n",
        "# 학생별 합계 및 평균\n",
        "df[\"합계\"] = df[[\"국어\", \"수학\", \"과학\"]].sum(axis=1)\n",
        "df[\"평균\"] = df[[\"국어\", \"수학\", \"과학\"]].mean(axis=1)\n",
        "\n",
        "# 출력\n",
        "print(\"\\n📊 학생별 성적표\")\n",
        "print(df)\n",
        "\n",
        "# 과목별 평균\n",
        "subject_avg = df[[\"국어\", \"수학\", \"과학\"]].mean()\n",
        "\n",
        "print(\"\\n📈 과목별 평균 점수\")\n",
        "print(subject_avg)"
      ],
      "metadata": {
        "colab": {
          "base_uri": "https://localhost:8080/"
        },
        "id": "1Rk0lKjGk0A5",
        "outputId": "7ca716de-dbab-42d6-f423-32dec3627e39"
      },
      "execution_count": null,
      "outputs": [
        {
          "output_type": "stream",
          "name": "stdout",
          "text": [
            "학생 5명의 이름과 국어, 수학, 과학 점수를 입력하세요.\n",
            "\n",
            "[1번째 학생 입력]\n",
            "이름: Na\n",
            "국어 점수: 100\n",
            "수학 점수: 100\n",
            "과학 점수: 100\n",
            "\n",
            "[2번째 학생 입력]\n",
            "이름: Park\n",
            "국어 점수: 100\n",
            "수학 점수: 100\n",
            "과학 점수: 100\n",
            "\n",
            "[3번째 학생 입력]\n",
            "이름: Lee\n",
            "국어 점수: 100\n",
            "수학 점수: 100\n",
            "과학 점수: 100\n",
            "\n",
            "[4번째 학생 입력]\n",
            "이름: Sue\n",
            "국어 점수: 100\n",
            "수학 점수: 100\n",
            "과학 점수: 100\n",
            "\n",
            "[5번째 학생 입력]\n",
            "이름: Guan\n",
            "국어 점수: 100\n",
            "수학 점수: 100\n",
            "과학 점수: 1000\n",
            "\n",
            "📊 학생별 성적표\n",
            "     이름   국어   수학    과학    합계     평균\n",
            "0    Na  100  100   100   300  100.0\n",
            "1  Park  100  100   100   300  100.0\n",
            "2   Lee  100  100   100   300  100.0\n",
            "3   Sue  100  100   100   300  100.0\n",
            "4  Guan  100  100  1000  1200  400.0\n",
            "\n",
            "📈 과목별 평균 점수\n",
            "국어    100.0\n",
            "수학    100.0\n",
            "과학    280.0\n",
            "dtype: float64\n"
          ]
        }
      ]
    }
  ]
}