{
  "nbformat": 4,
  "nbformat_minor": 0,
  "metadata": {
    "colab": {
      "provenance": [],
      "authorship_tag": "ABX9TyN60ZZHxiFxHCWX8u2c76Dy",
      "include_colab_link": true
    },
    "kernelspec": {
      "name": "python3",
      "display_name": "Python 3"
    },
    "language_info": {
      "name": "python"
    }
  },
  "cells": [
    {
      "cell_type": "markdown",
      "metadata": {
        "id": "view-in-github",
        "colab_type": "text"
      },
      "source": [
        "<a href=\"https://colab.research.google.com/github/seok09/-Github-Repository/blob/main/python_1.ipynb\" target=\"_parent\"><img src=\"https://colab.research.google.com/assets/colab-badge.svg\" alt=\"Open In Colab\"/></a>"
      ]
    },
    {
      "cell_type": "markdown",
      "source": [
        "w3school"
      ],
      "metadata": {
        "id": "1PC0xNYEzjBD"
      }
    },
    {
      "cell_type": "code",
      "execution_count": null,
      "metadata": {
        "id": "ehV-X5aVtcGV"
      },
      "outputs": [],
      "source": [
        "def gugudan(num):\n",
        "    for i in range(1, 10):\n",
        "        print(f\"{num} x {i} = {num * i}\")\n",
        "\n",
        "if __name__ == \"__main__\":\n",
        "    n = int(input(\"숫자를 입력하세요: \"))\n",
        "    gugudan(n)\n"
      ]
    }
  ]
}